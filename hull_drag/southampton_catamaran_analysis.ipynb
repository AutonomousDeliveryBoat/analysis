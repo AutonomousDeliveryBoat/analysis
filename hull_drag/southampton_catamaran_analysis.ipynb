{
 "cells": [
  {
   "cell_type": "code",
   "execution_count": 171,
   "metadata": {
    "collapsed": true
   },
   "outputs": [],
   "source": [
    "import numpy as np"
   ]
  },
  {
   "cell_type": "code",
   "execution_count": 172,
   "metadata": {
    "collapsed": true
   },
   "outputs": [],
   "source": [
    "L = 1.6 # m (overall length)\n",
    "B = 0.8 # m (overall width)\n",
    "b = 1.6 / 7.0 # m (demihull width)\n",
    "T = b / 2.0 # m (draft)\n",
    "Cb = 0.397 # ul (block coefficient)\n",
    "V = 3.0 # m/s (velocity)"
   ]
  },
  {
   "cell_type": "code",
   "execution_count": 173,
   "metadata": {
    "collapsed": false
   },
   "outputs": [
    {
     "name": "stdout",
     "output_type": "stream",
     "text": [
      "0.757228166019\n",
      "33.2343600945\n"
     ]
    }
   ],
   "source": [
    "displacement_length_ratio = 6.27\n",
    "displacement_per_hull = (L / displacement_length_ratio) ** 3\n",
    "\n",
    "Fr = V / np.sqrt(9.81 * L)\n",
    "displacement_total = 2 * displacement_per_hull\n",
    "mass_displaced = displacement_total * 1000.0\n",
    "\n",
    "\n",
    "length_demi_width_ratio = L / b\n",
    "width_length_ratio = (B - b) / L\n",
    "\n",
    "print Fr\n",
    "print mass_displaced"
   ]
  },
  {
   "cell_type": "code",
   "execution_count": 174,
   "metadata": {
    "collapsed": false
   },
   "outputs": [
    {
     "name": "stdout",
     "output_type": "stream",
     "text": [
      "0.00350721529867\n"
     ]
    }
   ],
   "source": [
    "V_m = V * np.sqrt(1.6 / L)\n",
    "Re_m = V_m * 1.6 / 1.14E-6\n",
    "Re_s = V * L / 1.19E-6\n",
    "\n",
    "C_FM = 0.075 / (np.log10(Re_m) - 2)**2\n",
    "C_FS = 0.075 / (np.log10(Re_s) - 2)**2\n",
    "\n",
    "print C_FM"
   ]
  },
  {
   "cell_type": "code",
   "execution_count": 175,
   "metadata": {
    "collapsed": false
   },
   "outputs": [],
   "source": [
    "n = (0.41 + 0.51)/2.0\n",
    "a = (0.518 + 0.426)/2.0\n",
    "tau = a * displacement_length_ratio**n\n",
    "\n",
    "Cr = 6.078 / 1000.0"
   ]
  },
  {
   "cell_type": "code",
   "execution_count": 176,
   "metadata": {
    "collapsed": false
   },
   "outputs": [
    {
     "name": "stdout",
     "output_type": "stream",
     "text": [
      "0.0102105798839\n"
     ]
    }
   ],
   "source": [
    "C_total = C_FS + tau*Cr\n",
    "print C_total"
   ]
  },
  {
   "cell_type": "code",
   "execution_count": 177,
   "metadata": {
    "collapsed": false
   },
   "outputs": [
    {
     "name": "stdout",
     "output_type": "stream",
     "text": [
      "39.8825250266\n"
     ]
    }
   ],
   "source": [
    "R_total = 0.5 * 1000.0 * C_total * V**2 * 0.434*2\n",
    "print R_total"
   ]
  },
  {
   "cell_type": "code",
   "execution_count": 178,
   "metadata": {
    "collapsed": false
   },
   "outputs": [
    {
     "data": {
      "text/plain": [
       "39.882525026560231"
      ]
     },
     "execution_count": 178,
     "metadata": {},
     "output_type": "execute_result"
    }
   ],
   "source": [
    "R_total"
   ]
  },
  {
   "cell_type": "code",
   "execution_count": 179,
   "metadata": {
    "collapsed": false
   },
   "outputs": [
    {
     "name": "stdout",
     "output_type": "stream",
     "text": [
      "119.64757508\n"
     ]
    }
   ],
   "source": [
    "P = R_total * V\n",
    "print P"
   ]
  },
  {
   "cell_type": "code",
   "execution_count": 169,
   "metadata": {
    "collapsed": false
   },
   "outputs": [
    {
     "data": {
      "text/plain": [
       "119.64757507968069"
      ]
     },
     "execution_count": 169,
     "metadata": {},
     "output_type": "execute_result"
    }
   ],
   "source": []
  },
  {
   "cell_type": "code",
   "execution_count": null,
   "metadata": {
    "collapsed": true
   },
   "outputs": [],
   "source": []
  }
 ],
 "metadata": {
  "anaconda-cloud": {},
  "kernelspec": {
   "display_name": "Python [default]",
   "language": "python",
   "name": "python2"
  },
  "language_info": {
   "codemirror_mode": {
    "name": "ipython",
    "version": 2
   },
   "file_extension": ".py",
   "mimetype": "text/x-python",
   "name": "python",
   "nbconvert_exporter": "python",
   "pygments_lexer": "ipython2",
   "version": "2.7.12"
  }
 },
 "nbformat": 4,
 "nbformat_minor": 1
}
